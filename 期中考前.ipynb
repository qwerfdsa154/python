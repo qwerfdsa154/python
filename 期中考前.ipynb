{
 "cells": [
  {
   "cell_type": "markdown",
   "metadata": {},
   "source": [
    "# 加法"
   ]
  },
  {
   "cell_type": "code",
   "execution_count": null,
   "metadata": {},
   "outputs": [],
   "source": [
    "a=3\n",
    "b=5\n",
    "a+b"
   ]
  },
  {
   "cell_type": "markdown",
   "metadata": {},
   "source": [
    "# 網頁擷取"
   ]
  },
  {
   "cell_type": "code",
   "execution_count": 1,
   "metadata": {},
   "outputs": [
    {
     "name": "stdout",
     "output_type": "stream",
     "text": [
      "ï»¿<!DOCTYPE html>\r\n",
      "<!--\r\n",
      "Template Name:ææ°ç§æå¤§å­¸\r\n",
      "Author: <a href=\"http://www.os-templates.com/\">OS Templates</a>\r\n",
      "Author URI: http://www.os-templates.com/\r\n",
      "Licence: Free to use under our free template licence terms\r\n",
      "Licence URI: http://www.os-templates.com/template-terms\r\n",
      "-->\r\n",
      "<html>\r\n",
      "<head>\r\n",
      "\r\n",
      "\r\n",
      "<title>ææ°ç§æå¤§å­¸</title>\r\n",
      "\r\n",
      "<meta charset=\"utf-8\">\r\n",
      "<meta http-equiv=\"X-UA-Compatible\" content=\"IE=edge,chrome=1\">\r\n",
      "<meta name=\"viewport\" content=\"width=device-width, initial-scale=1.0, maximum-scale=1.0, user-scalable=no\">\r\n",
      "<meta name= \" Accessible_website \" content= \" æ¬ç¶²ç«ééç¬¬(1)åªå",
      "ç­ç´ç¡éç¤ç¶²é æª¢æ¸¬ \" >\r\n",
      "<link href=\"layout/styles/layout.css\" rel=\"stylesheet\" type=\"text/css\" media=\"all\">\r\n",
      "<script type=\"text/javascript\" src=\"layout/scripts/away.js\"></script>\r\n",
      "<script charset=\"UTF-8\" type=\"text/javascript\" src=\"http://webs.must.edu.tw/pagecount/showpage.php?page=must_school&show=no\"></script>\r\n",
      "<style type=text/css> \r\n",
      "<!--\r\n",
      "/*å",
      "¨é¨è¨­å®å­é«*/\r\n",
      " body { font-family: verdana, Times New Roman, å¾®è»æ­£é»é«, æ°ç´°æé«; }\r\n",
      "//-->\r\n",
      "</style>\r\n",
      "<!-- Global site tag (gtag.js) - Google Analytics -->\r\n",
      "<script async src=\"https://www.googletagmanager.com/gtag/js?id=UA-131310035-1\"></script>\r\n",
      "<script>\r\n",
      "  window.dataLayer = window.dataLayer || [];\r\n",
      "  function gtag(){dataLayer.push(arguments);}\r\n",
      "  gtag('js', new Date());\r\n",
      "\r\n",
      "  gtag('config', 'UA-131310035-1');\r\n",
      "</script>\r\n",
      "\r\n",
      "<meta name=\"google-site-verification\" content=\"RWpB7K7gSzGG8bdRm5qvd8f__sl0_0wmc5g5L3qpf8c\" />\r\n",
      "</head>\r\n",
      "<body id=\"top\">\r\n",
      "<!-- ################################################################################################ --> \r\n",
      "<!-- ################################################################################################ --> \r\n",
      "<!-- ################################################################################################ -->\r\n",
      "<div class=\"wrapper row1\">\r\n",
      "\r\n",
      "  <div id=\"topbar\" class=\"clear\"> \r\n",
      "    <!-- ################################################################################################ -->\r\n",
      "    <nav>\r\n",
      "      <ul><a href=\"#_top\" accesskey=\"U\" title=\"ä¸æ¹é¸å®å\">:::</a>\r\n",
      "        <li><a href=\"http://www.must.edu.tw/index.html\">é¦é </a></li>\r\n",
      "\t<li><a href=\"http://webc1.must.edu.tw/jtmust062/index.php/news/mustepaper\">é»å­å ±</a></li>\r\n",
      "        <li><a href=\"http://www.must.edu.tw/about/contact.html\">è¯çµ¡æå</a></li>\r\n",
      "        <li><a href=\"http://fg.must.edu.tw/\">English</a></li>\r\n",
      "        <li><a href=\"mailto://csc@must.edu.tw;president@must.edu.tw;secretariat.must@must.edu.tw;chen083487@must.edu.tw \">æ ¡é·ä¿¡ç®±</a></li>\r\n",
      "        <li><a href=\"mailto://csc@must.edu.tw\">è£äºé·ä¿¡ç®±</a></li>\r\n",
      "\t<li><a href=\"http://www.must.edu.tw/about/webmap.html\">ç¶²ç«å°è¦½</a></li>\r\n",
      "\t<li><a href=\"http://www.must.edu.tw/seach.html\">ç«å",
      "§æå°</a></li>\r\n",
      "      \r\n",
      "      </ul>\r\n",
      "    </nav>\r\n",
      "    <!-- ################################################################################################ --> \r\n",
      "  </div>\r\n",
      "</div>\r\n",
      "<!-- ################################################################################################ --> \r\n",
      "\r\n",
      "<!-- å",
      "¬éåºççµyahooè¡é·ç¨å¼ç¢¼ -->\r\n",
      "<script type=\"application/javascript\">(function(w,d,t,r,u){w[u]=w[u]||[];w[u].push({'projectId':'10001499389408','properties':{'pixelId':'440351'}});var s=d.createElement(t);s.src=r;s.async=true;s.onload=s.onreadystatechange=function(){var y,rs=this.readyState,c=w[u];if(rs&&rs!=\"complete\"&&rs!=\"loaded\"){return}try{y=YAHOO.ywa.I13N.fireBeacon;w[u]=[];w[u].push=function(p){y([p])};y(c)}catch(e){}};var scr=d.getElementsByTagName(t)[0],par=scr.parentNode;par.insertBefore(s,scr)})(window,document,\"script\",\"https://s.yimg.com/wi/ytc.js\",\"dotq\");</script>\r\n",
      "\r\n",
      "<!-- ################################################################################################ --> \r\n",
      "<!-- ################################################################################################ -->\r\n",
      "<div class=\"wrapper row1\">\r\n",
      "  <header id=\"header\" class=\"clear\"> \r\n",
      "    <!-- ################################################################################################ -->\r\n",
      "    <div id=\"logo\" class=\"fl_left\">\r\n",
      "      <a href=\"http://www.must.edu.tw/index.html\" title=\"åé¦é \"><img src=\"images/Q/newlogo-3.png\" alt=\"å­¸æ ¡ç¶²é logoå\"></a>\r\n",
      "      <!--<h1><a href=\"http://www.must.edu.tw/\">ææ°ç§æå¤§å­¸</a></h1> -->\r\n",
      "      <!--<p  style=\"color:#FFFFFF;\">Minghsin University of Science and Technology</p> -->\r\n",
      "    </div>\r\n",
      "    <div class=\"fl_right\">\r\n",
      "\r\n",
      "    <div id=\"headerLink\">\r\n",
      "    <!-- <form class=\"clear\" method=\"post\" action=\"chinese/16_search/search.aspx\" enctype=\"multipart/form-data\">\r\n",
      "        <fieldset>\r\n",
      "          <legend>Search:</legend>\r\n",
      "          <input name=\"searchkey\" type=\"text\" value=\"\" placeholder=\"å",
      "¨ç«æå°\">\r\n",
      "          <button class=\"javascript:fSearch_submit(document.fsearch);\" type=\"submit\" title=\"Search\">\r\n",
      "\t\t  <function Tomaincontent(item) \r\n",
      "{ \r\n",
      "  for (var i=1; i<= maincontent; i++){\r\n",
      "    main_content = document.getElementById(\"main_content_\"+ i);\r\n",
      "\tlabel = document.getElementById(\"label_\"+ i);\r\n",
      "    main_content.style.display = \"none\";\r\n",
      "\tlabel.className = \"home_label\"+i+\"B\"; \r\n",
      "\t//label.style.background = eval(\"d\"+i); \r\n",
      "  }\r\n",
      "    main_content = document.getElementById(\"main_content_\"+ item);\r\n",
      "\tlabel = document.getElementById(\"label_\"+ item);\r\n",
      "    main_content.style.display = \"block\";\r\n",
      "\tlabel.className = \"home_label\"+item; \r\n",
      "\t//label.style.background = eval(\"u\"+item); \r\n",
      "} \r\n",
      "function fSearch_submit(obj){\r\n",
      "\tif(obj.searchkey.value==\"\")\r\n",
      "\t\talert(\"è«è¼¸å",
      "¥ééµå­\");\r\n",
      "\telse\r\n",
      "\t\tobj.submit();}>\r\n",
      "\t\t<img src=\"images/Sh1.png\" alt=\"space\"><em>go</em></button>\r\n",
      "        </fieldset>\r\n",
      "      </form> -->\r\n",
      "\r\n",
      "    </div>\r\n",
      "    <!-- ################################################################################################ --> \r\n",
      "\r\n",
      "<meta name=\"google-site-verification\" content=\"VvvB2lIrxUHUFgFdJH385AdQvObUJCcWo2zA69vUzSc\" />\r\n",
      "\r\n",
      "  </header>\r\n",
      "</div>\r\n",
      "<!-- ################################################################################################ --> \r\n",
      "<!-- ################################################################################################ --> \r\n",
      "<!-- ################################################################################################ -->\r\n",
      "<div class=\"wrapper row2\">\r\n",
      "\r\n",
      "  <div class=\"rounded\">\r\n",
      "    <nav id=\"mainav\" class=\"clear\"> \r\n",
      "      <!-- ################################################################################################ -->\r\n",
      "      <ul class=\"clear\">\r\n",
      "<a href=\"#_menu\" accesskey=\"M\" title=\"æ©«ååè½é£çµå-ææè¯çµçä»¥å¦éè¦çªçºä¸»\">:::</a>\r\n",
      "        <li class=\"active\"><a href=\"http://www.must.edu.tw/index.html\">é¦é </a></li>\r\n",
      "        <li><a class=\"drop\" href=\"http://www.must.edu.tw/about/aboutmust.html\">éæ¼ææ°</a>\r\n",
      "          <ul>\r\n",
      "            <li><a href=\"about/about-4.html \" target=\"_blank\">æ ¡å²</a></li>\r\n",
      "            <li><a href=\"about/about-2.html \" target=\"_blank\">æ ¡è¨</a></li>\r\n",
      "            <li onclick=\"ga('send', 'event', 'é¦é ', 'click','æ ¡æ­');\"><a href=\"about/about-3.html \" target=\"_blank\">æ ¡æ­</a></li>\r\n",
      "            <li><a href=\"about/about-16.html\" target=\"_blank\">åµæ ¡å",
      "è</a></li>\r\n",
      "            <li><a href=\"http://webc1.must.edu.tw/mustj001\" target=\"_blank\">è£äºæ</a></li>\r\n",
      "            <li><a href=\"http://webc2.must.edu.tw/jtmust002/\" target=\"_blank\">æ ¡é·</a></li>\r\n",
      "            <li><a href=\"http://www.must.edu.tw/ochart/1070411.pdf\" target=\"_blank\" title=\"æ¬æ ¡çµç¹ä»¥æ ¡é·é å°4é¢1ä¸­å¿è16åä¸ç´å®ä½å",
      "±åæ¨åææ°æ ¡åï¼è©³ç´°çµç¹çµæè«åèè¡æ¿å®ä½èå­¸è¡å®ä½ä¹é é¢\">å­¸æ ¡çµç¹ç³»çµ±å(PDFæ ¼å¼)</a></li>\r\n",
      "            <li><a href=\"about/about-7.html\" target=\"_blank\">æ²»æ ¡çå¿µ</a></li>\r\n",
      "            <li><a href=\"http://www.must.edu.tw/about/mustmap.html\" target=\"_blank\">å¦ä½å°ææ°</a></li>\r\n",
      "\t    <li><a href=\"http://webc1.must.edu.tw/jtmust073/index.php/2017-01-20-03-50-06/2017-01-23-06-53-36\" target=\"_blank\">æ ¡å",
      "§å¹³é¢å</a></li>\r\n",
      "            <li><a href=\"about/about-9.html\" target=\"_blank\">æ ¡åç¼å±éé»</a></li>\r\n",
      "            <li><a href=\"about/about-18.html\" target=\"_blank\">å­¸æ ¡å®ä½ãä½¿å½ãé¡æ¯åç¼å±ç®æ¨</a></li>\r\n",
      "          </ul>\r\n",
      "        </li>\r\n",
      "      <li><a class=\"drop\" href=\"http://www.must.edu.tw/about/acade.html\">å­¸è¡å®ä½</a>\r\n",
      "          <ul>\r\n",
      "            \r\n",
      "            <li><a class=\"drop\" href=\"http://webc1.must.edu.tw/jtmust058\" target=\"_blank\">å·¥å­¸é¢</a><ul>\r\n",
      "                <li><a href=\"http://meu.must.edu.tw/index.html\" target=\"_blank\">æ©æ¢°å·¥ç¨ç³»(å­¸å£«ç­)æ¨ç²¾å¯æ©é»å·¥ç¨ç ç©¶æ(ç¢©å£«ç­)</a></li>\r\n",
      "                <li><a href=\"http://webc2.must.edu.tw/jtmust005\" target=\"_blank\">é»æ©å·¥ç¨ç³»(å­¸å£«ç­ãç¢©å£«ç­)</a></li>\r\n",
      "                <li><a href=\"http://eed.must.edu.tw/\" target=\"_blank\">é»å­å·¥ç¨ç³»(å­¸å£«ç­ãç¢©å£«ç­)</a></li>\r\n",
      "                <li><a href=\"http://webc2.must.edu.tw/jtmust004/\" target=\"_blank\">åæ¨å·¥ç¨èç°å¢è³æºç®¡çç³»(å­¸å£«ç­ãç¢©å£«ç­)</a></li>\r\n",
      "\t\t<li><a href=\"http://webc2.must.edu.tw/jtmust020/\" target=\"_blank\">åå­¸å·¥ç¨èææç§æç³»(å­¸å£«ç­ãç¢©å£«ç­)</a></li>\r\n",
      "\t\t<li><a href=\"http://webc2.must.edu.tw/jtmust012\" target=\"_blank\">å",
      "é»å·¥ç¨ç³»(å­¸å£«ç­ãç¢©å£«ç­)</a></li>\r\n",
      "                <li><a href=\"http://webc1.must.edu.tw/jtmust074\" target=\"_blank\">è³è¨å·¥ç¨ç³»(å­¸å£«ç­)</a></li>\r\n",
      "                <li><a href=\"https://imaster.moe.gov.tw/home\" target=\"_blank\">ç¢æ¥­ç¢©å£«å°ç­</a></li>\r\n",
      "                \r\n",
      "                \r\n",
      "              </ul>\r\n",
      "            </li>\r\n",
      "            \r\n",
      "            <li><a class=\"drop\" href=\"http://webc2.must.edu.tw/jtmust015\" target=\"_blank\">ç®¡çå­¸é¢</a><ul>\r\n",
      "                <li><a href=\"http://webc2.must.edu.tw/jtmust028\" target=\"_blank\">å·¥æ¥­å·¥ç¨èç®¡çç³»(å­¸å£«ç­ãç¢©å£«ç­)</a></li>\r\n",
      "                <li><a href=\"http://www.im.must.edu.tw/im/\" target=\"_blank\">è³è¨ç®¡çç³»(å­¸å£«ç­ãç¢©å£«ç­)</a></li>\r\n",
      "\t\t<li><a href=\"http://webc2.must.edu.tw/jtmust018\" target=\"_blank\">è¡é·èæµéç®¡çç³»(å­¸å£«ç­)</a></li>\r\n",
      "                <li><a href=\"http://webc2.must.edu.tw/jtmust006\" target=\"_blank\">ä¼æ¥­ç®¡çç³»(å­¸å£«ç­)</a></li>\r\n",
      "                <li><a href=\"http://webc2.must.edu.tw/jtmust021\" target=\"_blank\">è²¡åéèç³»(å­¸å£«ç­)</a></li>\r\n",
      "                <li><a href=\"http://webc2.must.edu.tw/jtmust022\" target=\"_blank\">ç®¡çç ç©¶æ(ç¢©å£«ç­)</a></li>\r\n",
      "                <li><a href=\"http://webc2.must.edu.tw/jtmust013/\" target=\"_blank\">å",
      "¨çéç±ç®¡çä¸­å¿</a></li>\r\n",
      "                \r\n",
      "              </ul>\r\n",
      "            </li>\r\n",
      "            \r\n",
      "            <li><a class=\"drop\" href=\"http://webc1.must.edu.tw/jtmust043\" target=\"_blank\">æåç¢æ¥­å­¸é¢</a><ul>\r\n",
      "\t\t<li><a href=\"http://webc1.must.edu.tw/jtmust044\" target=\"_blank\">æåç¢æ¥­æ¨ç®¡çç ç©¶æ(ç¢©å£«ç­)</a></li>\r\n",
      "                <li><a href=\"http://webc2.must.edu.tw/jtmust019\" target=\"_blank\">æ",
      "é¤¨ç®¡çèå»èåµæç³»(å­¸å£«ç­)</a></li>\r\n",
      "                <li><a href=\"http://child.must.edu.tw/\" target=\"_blank\">å¹¼å",
      "ä¿è²ç³»(å­¸å£«ç­)</a></li>\r\n",
      "                <li><a href=\"http://webc2.must.edu.tw/jtmust101\" target=\"_blank\">ä¼éäºæ¥­ç®¡çç³»(å­¸å£«ç­)</a></li>\r\n",
      "                <li><a href=\"http://webc2.must.edu.tw/jtmust010/\" target=\"_blank\">æ¨é½¡æåç¢æ¥­ç®¡çç³»(å­¸å£«ç­)</a></li>\r\n",
      "                <li><a href=\"http://webc2.must.edu.tw/jtmust011\"  target=\"_blank\">å¸«è³å¹è²ä¸­å¿</a></li>\r\n",
      "                \r\n",
      "              </ul>\r\n",
      "            </li>\r\n",
      "            \r\n",
      "           <li><a class=\"drop\" href=\"http://webc2.must.edu.tw/jtmust003\" target=\"_blank\">äººæèè¨­è¨å­¸é¢</a><ul>\r\n",
      "                <li><a href=\"http://webc1.must.edu.tw/jtmust067/\" target=\"_blank\" >æç¨å¤èªç³»(å­¸å£«ç­)</a></li>\r\n",
      "                <li><a href=\"http://webc1.must.edu.tw/mustj004\"  target=\"_blank\">éåç®¡çç³»(å­¸å£«ç­)</a></li>\r\n",
      "\t\t<li><a href=\"http://webc2.must.edu.tw/jtmust102/\" target=\"_blank\" >å¤åªé«èéæ²ç¼å±ç³»(å­¸å£«ç­)</a></li>\r\n",
      "\t\t<li><a href=\"http://webc1.must.edu.tw/jtmust048/\" target=\"_blank\">åå¦åæç¨å­¸å£«å­¸ä½å­¸ç¨</a></li>\r\n",
      "\t\t<li><a href=\"http://webc1.must.edu.tw/jtmust041 \" target=\"_blank\">è¯èªææå­¸ä¸­å¿</a></li>\r\n",
      "                <li><a href=\"http://webc2.must.edu.tw/jtmust008\" target=\"_blank\">èæä¸­å¿</a></li>\r\n",
      "\t\t<li><a href=\"http://webc1.must.edu.tw/mustj006\" target=\"_blank\" >å¤å",
      "æç¾¤æåç ç©¶ä¸­å¿</a></li>\r\n",
      "\t\t\r\n",
      "            </ul>\r\n",
      "            </li>\r\n",
      "            \r\n",
      "             <li><a class=\"drop\" href=\"http://webc2.must.edu.tw/jtmust014\" target=\"_blank\">éè­æè²ä¸­å¿</a><ul>\r\n",
      "                <li><a href=\"http://webc1.must.edu.tw/jtmust081\"  target=\"_blank\">äººæèè¡æå­¸ä¸­å¿</a></li>\r\n",
      "                <li><a href=\"http://webc1.must.edu.tw/jtmust082\"  target=\"_blank\">ç¤¾æç§å­¸æå­¸ä¸­å¿</a></li>\r\n",
      "                <li><a href=\"http://webc1.must.edu.tw/jtmust083\" target=\"_blank\">èªç¶ç§å­¸æå­¸ä¸­å¿</a></li>\r\n",
      "               <li><a href=\"http://webc1.must.edu.tw/jtmust084\" target=\"_blank\" >èªè¨æå­¸ä¸­å¿</a></li>\r\n",
      "              </ul>\r\n",
      "            </li>\r\n",
      "            \r\n",
      "           <li><a class=\"drop\" href=\"#\">å",
      "¶ä»å®ä½</a> <ul>\r\n",
      "                \r\n",
      "                <li><a href=\"http://webs.must.edu.tw/ocmust001\"  target=\"_blank\">ææ°ç§å¤§æå¸«æ</a></li>\r\n",
      "              </ul>\r\n",
      "            </li> \r\n",
      "            \r\n",
      "          </ul>\r\n",
      "        </li>\r\n",
      "        \r\n",
      "        \r\n",
      "           <li><a class=\"drop\" href=\"http://www.must.edu.tw/about/admin.html\" target=\"_blank\">è¡æ¿å®ä½</a>\r\n",
      "               <ul>\r\n",
      "                <li><a href=\"http://webc1.must.edu.tw/mustj002\"  target=\"_blank\">ç¨½æ ¸å®¤</a></li>\r\n",
      "\r\n",
      "            <li><a class=\"drop\" href=\"http://webc2.must.edu.tw/jtmust024\"  target=\"_blank\">ç§æ¸å®¤</a><ul>\r\n",
      "                \r\n",
      "                <!--<li><a href=\"http://webc1.must.edu.tw/jtmust062\" target=\"_blank\">å",
      "¬éåºççµ</a></li>-->\r\n",
      "                <li><a href=\"http://webc1.must.edu.tw/jtmust060 \" target=\"_blank\">æ ¡åæåä¸­å¿</a></li>\r\n",
      "                \r\n",
      "                <!--<li><a href=\"http://admin.must.edu.tw/index.aspx?UnitID=20208\" target=\"_blank\">å",
      "©å²¸äº¤æµä¸­å¿</a></li>-->\r\n",
      "\t\t<!--<li><a href=\"http://admin.must.edu.tw/index.aspx?UnitID=20202\" target=\"_blank\">åéäº¤æµä¸­å¿</a></li>-->\t\t\r\n",
      "              </ul>\r\n",
      "            </li>\r\n",
      "\t\t\t\r\n",
      "\t\t\t<li><a href=\"http://webc1.must.edu.tw/jtmust062\" target=\"_blank\">å",
      "¬å",
      "±éä¿äºæ¥­å®¤</a></li>\r\n",
      "\t\t\t\r\n",
      "            <li><a href=\"http://webc1.must.edu.tw/jtmust077\" target=\"_blank\">æ ¡åç ç©¶è¾¦å",
      "¬å®¤</a></li>\r\n",
      "            \r\n",
      "            <li><a class=\"drop\" href=\"http://webc1.must.edu.tw/jtmust056 \" target=\"_blank\">åéæ¨å",
      "©å²¸äºåè</a><ul>\r\n",
      "                <li><a href=\"http://webc2.must.edu.tw/jtmust033\" target=\"_blank\">åéæè²èäº¤æµä¸­å¿</a></li>\r\n",
      "                <li><a href=\"http://webc2.must.edu.tw/jtmust032\" target=\"_blank\">å",
      "©å²¸æè²èäº¤æµä¸­å¿</a></li>\r\n",
      "                <!--<li><a href=\"http://webc2.must.edu.tw/jtmust027 \" target=\"_blank\">åæ¸¯æ¾³æè²èäº¤æµä¸­å¿</a></li>-->\r\n",
      "                <li><a href=\"http://webc2.must.edu.tw/jtmust031\" target=\"_blank\">å¢å¤çè¼å°èæåä¸­å¿</a></li>\r\n",
      "                \r\n",
      "              </ul>\r\n",
      "            </li>\r\n",
      "\r\n",
      "             <li><a class=\"drop\" href=\"http://webc1.must.edu.tw/jtmust066/\" target=\"_blank\">æåè</a><ul>\r\n",
      "                <li><a href=\"http://webc1.must.edu.tw/jtmust057\" target=\"_blank\">ç¶åæ¥­åçµ</a></li>\r\n",
      "                <li><a href=\"http://webc2.must.edu.tw/jtmust029\" target=\"_blank\">èª²åçµ</a></li>\r\n",
      "                <li><a href=\"http://webc2.must.edu.tw/jtmust026\" target=\"_blank\">è¨»åçµ</a></li>\r\n",
      "                <li><a href=\"http://webc2.must.edu.tw/jtmust025\" target=\"_blank\">æå­¸ç¼å±ä¸­å¿</a></li>\r\n",
      "              </ul>\r\n",
      "            </li>\r\n",
      "            \r\n",
      "             <li><a class=\"drop\" href=\"http://webc1.must.edu.tw/jtmust064\" target=\"_blank\">å­¸çäºåè</a><ul>\r\n",
      "                <li><a href=\"http://webc2.must.edu.tw/jtmust037\" target=\"_blank\">çæ´»è¼å°çµ</a></li>\r\n",
      "                <li><a href=\"http://webc1.must.edu.tw/jtmust063\" target=\"_blank\">èª²å¤æ´»åæå°çµ</a></li>\r\n",
      "                <li><a href=\"http://webc1.must.edu.tw/jtmust053\" target=\"_blank\">è¡çä¿å¥çµ</a></li>\r\n",
      "                <li><a href=\"http://webc1.must.edu.tw/jtmust055\" target=\"_blank\">é«è²å®¤</a></li>\r\n",
      "                <li><a href=\"http://webc1.must.edu.tw/jtmust070\" target=\"_blank\">ä½å®¿æåçµ</a></li>\r\n",
      "                <li><a href=\"http://webc1.must.edu.tw/jtmust042\" target=\"_blank\">æåå­¸ç¿ä¸­å¿</a></li>\r\n",
      "                <li><a href=\"http://webc1.must.edu.tw/jtmust069\" target=\"_blank\">è«®åè¼å°æ¨è·æ¶¯ç¼å±ä¸­å¿</a></li>\r\n",
      "                <li><a href=\"http://webc2.must.edu.tw/jtmust030\" target=\"_blank\">è«®åè¼å°æ¨è·æ¶¯ç¼å±ä¸­å¿[è³æºæå®¤]</a></li>\r\n",
      "              </ul>\r\n",
      "            </li>\r\n",
      "            \r\n",
      "            \r\n",
      "             <li><a class=\"drop\" href=\"http://webc1.must.edu.tw/jtmust072\" target=\"_blank\">ç¸½åè</a><ul>\r\n",
      "                <li><a href=\"http://webc1.must.edu.tw/jtmust065\" target=\"_blank\">ä¿ç®¡çµ</a></li>\r\n",
      "                <li><a href=\"http://webc1.must.edu.tw/jtmust073\" target=\"_blank\">äºåçµ</a></li>\r\n",
      "                <li><a href=\"http://webc1.must.edu.tw/jtmust052\" target=\"_blank\">çç¹çµ</a></li>\r\n",
      "                <li><a href=\"http://webc1.must.edu.tw/jtmust050\" target=\"_blank\">æ¡è³¼çµ</a></li>\r\n",
      "                <li><a href=\"http://webc1.must.edu.tw/jtmust075\" target=\"_blank\">ææ¸çµ</a></li>\r\n",
      "                <li><a href=\"http://webc1.must.edu.tw/jtmust049\" target=\"_blank\">åºç´çµ</a></li>\r\n",
      "              </ul>\r\n",
      "            </li>\r\n",
      "            \r\n",
      "             <li><a class=\"drop\" href=\"http://webc1.must.edu.tw/jtmust045\" target=\"_blank\">ç ç©¶ç¼å±è</a><ul>\r\n",
      "                <li><a href=\"http://webc2.must.edu.tw/jtmust035\" target=\"_blank\">ç ç©¶èæè¡æ¨åä¸­å¿</a></li>\r\n",
      "                <li><a href=\"http://webc1.must.edu.tw/jtmust054\" target=\"_blank\">æ ¡åä¼åçµ</a></li>\r\n",
      "                <li><a href=\"http://webc1.must.edu.tw/jtmust046 \" target=\"_blank\">ç¢å­¸åæè¡ç§»è½ä¸­å¿</a></li>\r\n",
      "                <li><a href=\"http://webc1.must.edu.tw/jtmust047\" target=\"_blank\">åµæ°è²æä¸­å¿</a></li>\r\n",
      "              </ul>\r\n",
      "            </li>\r\n",
      "            \r\n",
      "            \r\n",
      "             <li><a  href=\"http://www.lib.must.edu.tw/\" target=\"_blank\">åæ¸é¤¨</a>\r\n",
      "             \r\n",
      "                <!-- <li><a class=\"drop\" href=\"http://www.lib.must.edu.tw/\" target=\"_blank\">åæ¸é¤¨</a><ul>\r\n",
      "                <li><a href=\"http://admin.must.edu.tw/index.aspx?UnitID=20602\" target=\"_blank\">æ¡è¨ªç·¨ç®çµ</a></li>\r\n",
      "                <li><a href=\"http://admin.must.edu.tw/index.aspx?UnitID=20603\" target=\"_blank\">è®è",
      "æåçµ</a></li>\r\n",
      "                <li><a href=\"http://admin.must.edu.tw/index.aspx?UnitID=20604\" target=\"_blank\">ç³»çµ±è³è¨çµ</a></li> </ul> -->\r\n",
      "            </li>\r\n",
      "            \r\n",
      "              <li><a href=\"http://webc2.must.edu.tw/jtmust001/\" target=\"_blank\">è³è¨è</a></li>\r\n",
      "             <!-- \r\n",
      "                <li><a class=\"drop\" href=\"http://admin.must.edu.tw/index.aspx?UnitID=20701\" target=\"_blank\">è³è¨è</a><ul>\r\n",
      "                <li><a href=\"http://admin.must.edu.tw/index.aspx?UnitID=20703\" target=\"_blank\">æ ¡åè»é«çµ</a></li>\r\n",
      "                <li><a href=\"http://admin.must.edu.tw/index.aspx?UnitID=20704\" target=\"_blank\">ç¶²è·¯æåçµ</a></li>\r\n",
      "                <li><a href=\"http://admin.must.edu.tw/index.aspx?UnitID=20705\" target=\"_blank\">æå­¸æ¯æ´çµ</a></li> </ul>\r\n",
      "            </li> -->\r\n",
      "            \r\n",
      "            <li><a href=\"http://webc1.must.edu.tw/jtmust059\" target=\"_blank\">æè¨å®¤</a></li>\r\n",
      "\r\n",
      "            <li><a href=\"http://webc1.must.edu.tw/mustj007\" target=\"_blank\">äººäºå®¤</a></li>\r\n",
      "            \r\n",
      "             <li><a class=\"drop\" href=\"http://webc2.must.edu.tw/jtmust040/\" target=\"_blank\">é²ä¿®æ¨å»£é¨</a><ul>\r\n",
      "                <li><a href=\"http://webc2.must.edu.tw/jtmust034\" target=\"_blank\">é²ä¿®æ¨å»£é¨è¨»åçµ</a></li>\r\n",
      "                <li><a href=\"http://webc2.must.edu.tw/jtmust039\" target=\"_blank\">é²ä¿®æ¨å»£é¨èª²åçµ</a></li>\r\n",
      "                <li><a href=\"http://webc2.must.edu.tw/jtmust036\" target=\"_blank\">é²ä¿®æ¨å»£é¨å­¸çäºåçµ</a></li>\r\n",
      "                <li><a href=\"http://webc2.must.edu.tw/jtmust023\" target=\"_blank\">é²ä¿®æ¨å»£é¨ç¸½åçµ</a></li>\r\n",
      "                <li><a href=\"http://eec.must.edu.tw\" target=\"_blank\">æ¨å»£æè²ä¸­å¿</a></li>\r\n",
      "              </ul>\r\n",
      "            </li>\r\n",
      "            \r\n",
      "            <li><a  href=\"http://webc2.must.edu.tw/jtmust038\" target=\"_blank\">é²ä¿®å­¸é¢æ¨å°ç§é²ä¿®å­¸æ ¡</a>\r\n",
      "\r\n",
      "         <!--    <li><a class=\"drop\" href=\"http://admin.must.edu.tw/index.aspx?UnitID=21301\" target=\"_blank\">é²ä¿®å­¸é¢æ¨å°ç§é²ä¿®å­¸æ ¡</a><ul>\r\n",
      "                <li><a href=\"http://webc2.must.edu.tw/jtmust038\" target=\"_blank\">é²ä¿®å­¸é¢æ¨å°ç§é²ä¿®å­¸æ ¡æåçµ</a></li>\r\n",
      "                <li><a href=\"http://webc2.must.edu.tw/jtmust036\" target=\"_blank\">é²ä¿®å­¸é¢æ¨å°ç§é²ä¿®å­¸æ ¡äºåçµ</a></li>\r\n",
      "                <li><a href=\"http://webc2.must.edu.tw/jtmust023\" target=\"_blank\">é²ä¿®å­¸é¢æ¨å°ç§é²ä¿®å­¸æ ¡ç¸½åçµ</a></li>                \r\n",
      "              </ul>-->\r\n",
      "            </li>\r\n",
      "            \r\n",
      "            <li><a href=\"https://www.must.edu.tw/chinese/11_subsite_science/index.aspx?UnitID=20801\" target=\"_blank\">æ³è¦åæä»¶ç®¡å¶ä¸­å¿</a></li>\r\n",
      "\t\t\t\r\n",
      "            <li><a class=\"drop\" href=\"http://webc1.must.edu.tw/jtmust068\" target=\"_blank\">è»è¨å®¤</a>\r\n",
      "\t\t\t<ul>\r\n",
      "\t\t\t<li><a href=\"http://webc1.must.edu.tw/jtmust068/index.php/2017-02-06-09-53-07\" target=\"_blank\">æ ¡å®ä¸­å¿</a></li>\r\n",
      "            </ul></li>\r\n",
      "\t\t\t\r\n",
      "            <li><a href=\"http://webc1.must.edu.tw/jtmust051/\" target=\"_blank\">ç°å¢å®å",
      "¨è¡çä¸­å¿</a>\r\n",
      "            </li>\r\n",
      "            \r\n",
      "                <li><a class=\"drop\" href=\"#\" target=\"_blank\">å",
      "¶ä»å®ä½</a><ul>\r\n",
      "                <li><a href=\"http://webs.must.edu.tw/ocmust004/\" target=\"_blank\">åäººè³æä¿è­·å°å</a></li>\r\n",
      "                <li><a href=\"http://webs.must.edu.tw/ocmust004/\" target=\"_blank\">æºè²¡æ¬å°å</a></li>\r\n",
      "                <li><a href=\"https://www.must.edu.tw/chinese/10_subsite_admin/index.aspx?UnitID=Z0032\" target=\"_blank\">ç¢å­¸ç ç¼ç¶²ç«</a></li>\r\n",
      "                <li><a href=\"https://www.must.edu.tw/chinese/10_subsite_admin/index.aspx?UnitID=Z0001\" target=\"_blank\">æ§å¥å¹³ç­æè²è³è¨ç¶²</a></li>\r\n",
      "                \r\n",
      "                <li><a href=\"https://www.must.edu.tw/chinese/10_subsite_admin/index.aspx?UnitID=Z0010\" target=\"_blank\">ææ°å­¸å ±</a></li>\r\n",
      "                <li><a href=\"https://www.must.edu.tw/chinese/10_subsite_admin/index.aspx?UnitID=Z0024\" target=\"_blank\">æ°ç«¹åç­ç¥è¯çè¨ç«ç¶²ç«</a></li>\r\n",
      "                <li><a href=\"https://www.must.edu.tw/chinese/11_subsite_science/index.aspx?UnitID=Z0002\" target=\"_blank\">é»å­ç³»ç³»åæ</a></li>\r\n",
      "                <li><a href=\"http://webs.must.edu.tw/ocmust002\" target=\"_blank\">æ°ç«¹ç¸£ååå±",
      "å®¶æè²æåä¸­å¿(åç¤¾åä¿æ¯ç³»çµ±)</a></li>\r\n",
      "              </ul>\r\n",
      "            </li>            \r\n",
      "          </ul>\r\n",
      "        </li>\r\n",
      "        \r\n",
      "        <li><a class=\"drop\" href=\"http://www.must.edu.tw/about/admissions.html\">æç</a>\r\n",
      "        <ul>\r\n",
      "\t\t\t<li><a class=\"drop\"  target=\"_blank\">ç ç©¶ææç</a><ul>\r\n",
      "                \t\t<li><a href=\"http://webs.must.edu.tw/ocmust113/\" target=\"_blank\">ç¢©å£«ç­çè©¦å",
      "¥å­¸</a></li>\r\n",
      "\t\t\t\t<li><a href=\"http://webs.must.edu.tw/ocmust114/\" target=\"_blank\">ç¢©å£«ç­æ¨ç¢©å£«å¨è·å°ç­æç</a></li></ul></li>            \r\n",
      "            \t\t<li><a class=\"drop\" target=\"_blank\">æ¥éé¨æç</a><ul>\r\n",
      "               \t\t\t<li><a href=\"http://webs.must.edu.tw/ocmust108/\" target=\"_blank\">é«ä¸­ç³è«å",
      "¥å­¸</a></li>\r\n",
      "\t\t\t\t<li><a href=\"http://webs.must.edu.tw/ocmust109/\" target=\"_blank\">éåç¸¾åªå®ç¨æç</a></li>\r\n",
      "\t\t\t\t<li><a href=\"http://webs.must.edu.tw/ocmust110/\" target=\"_blank\">ç¹æ®é¸æ</a></li>\r\n",
      "\t\t\t\t<li><a href=\"http://webs.must.edu.tw/ocmust111/\" target=\"_blank\">æåªçå¯©å",
      "¥å­¸</a></li>\r\n",
      "\t\t\t\t<li><a href=\"http://webs.must.edu.tw/ocmust105/\" target=\"_blank\">çé¸å",
      "¥å­¸</a></li>\r\n",
      "\t\t\t\t<li><a href=\"http://webs.must.edu.tw/ocmust106/\" target=\"_blank\">è¯åç»è¨åç¼</a></li>\r\n",
      "\t\t\t\t<li><a href=\"http://webs.must.edu.tw/ocmust112/\" target=\"_blank\">èº«å¿éç¤å­¸ççè©¦å",
      "¥å­¸</a></li></ul></li>\r\n",
      "            \t\t<li><a href=\"http://webs.must.edu.tw/ocmust101/\" target=\"_blank\">é²ä¿®é¨æç</a></li>\r\n",
      "\t\t\t<li><a href=\"http://webs.must.edu.tw/ocmust102/\" target=\"_blank\">åç­äºè¼ªæçå°å/ç¢æåç¢å­¸è¨è¨ç«</a></li>\r\n",
      "            \t\t<li><a href=\"http://fg.must.edu.tw/\" target=\"_blank\">å¤åå­¸çæç</a></li>\r\n",
      "\t\t\t<li><a href=\"http://webs.must.edu.tw/ocmust104/\" target=\"_blank\">è½å­¸çæç</a></li>\t        \r\n",
      "        </ul>\r\n",
      "\t\t</li>        \r\n",
      "        \r\n",
      "        <li><a class=\"drop\" href=\"http://www.must.edu.tw/about/servies.html\" target=\"_blank\">ç·ä¸æå</a>\r\n",
      "         <ul>\r\n",
      "            <li><a href=\"http://www.must.edu.tw/about/qa.html\" target=\"_blank\">å¸¸è¦åç­</a></li>\r\n",
      "            <li><a class=\"drop\" href=\"#\">æåç³»çµ±</a>\r\n",
      "             <ul>\r\n",
      "                <li><a href=\"http://sss.must.edu.tw/std_service.html\" target=\"_blank\">å­¸çå°å</a></li>\r\n",
      "                <li><a href=\"http://sss.must.edu.tw/teach_service.html\" target=\"_blank\">æè·å¡å°å</a></li>\r\n",
      "               <!-- <li><a href=\"http://sss.must.edu.tw/chief_service.html\" target=\"_blank\">è¡æ¿ä¸»ç®¡å°å</a></li>\r\n",
      "                <li><a href=\"http://sss.must.edu.tw/stuff_service.html\" target=\"_blank\">è¡æ¿äººå¡å°å</a></li> -->\r\n",
      "                </ul></li>\r\n",
      "                \r\n",
      "             <li><a class=\"drop\" href=\"http://www.must.edu.tw/about/download.html\">æªæ¡ä¸è¼</a>\r\n",
      "             <ul>\r\n",
      "                <li><a href=\"http://ftp.must.edu.tw/ftp/free/form/index.htm\" target=\"_blank\">å¸¸ç¨è¡¨æ ¼(éæ ¡å",
      "§é£ç·)</a></li>\r\n",
      "                <li><a href=\"http://www.must.edu.tw/about/download.html\" target=\"_blank\">æ ¡å¾½/å°å/ç³»çµ±çµç¹å</a></li>\r\n",
      "                <li><a href=\"http://www.must.edu.tw/chinese/MUST-ISMS-D-022.PDF\" target=\"_blank\">è³è¨æåç³è«å®(PDFæ ¼å¼)</a></li>\r\n",
      "\t\t</ul></li>\r\n",
      "              \r\n",
      "            <li><a href=\"mailto://vanjj@must.edu.tw\" target=\"_blank\">ç¶²ç«åé¡åæ </a></li>\r\n",
      "\t    <li><a href=\"mailto://csc@must.edu.tw;president@must.edu.tw;secretariat.must@must.edu.tw;chen083487@must.edu.tw \">æ ¡é·ä¿¡ç®±</a></li>\r\n",
      "            <li><a href=\"mailto://csc@must.edu.tw\">è£äºé·ä¿¡ç®±</a></li>  \r\n",
      "            <li><a href=\"http://www.must.edu.tw/about/calendar.html\" target=\"_blank\">æ ¡åè¡äºæ</a></li>    \r\n",
      "              </ul>  </li>\r\n",
      "\t  \r\n",
      "            <li><a  href=\"http://webs.must.edu.tw/jtmust060\" target=\"_blank\">å¼±å¢å©å­¸å¸å</a></li>\r\n",
      " \r\n",
      "      </ul>\r\n",
      "      <!-- ################################################################################################ --> \r\n",
      "    </nav>\r\n",
      "  </div>\r\n",
      "</div>\r\n",
      "<!-- ################################################################################################ --> \r\n",
      "<!-- ################################################################################################ --> \r\n",
      "<!-- ################################################################################################ -->\r\n",
      "                                                                                                                                                                                                                                                                                                                                                                                                                                                                                                                                                                                                                                                                                                                                                                                                                                                                                                                                                                                                                                                                                                                                                                                                                                                                                                                                                                                                                                                                                                                                                                                                                                                                                                                                                                                                                                                                                                                                                                                                                                                                                                                                                                                                                                                                                                                                                                                                                                                                                                                                                                                                                                                                                                                                                                                                                                                                                                                                                                                                                                                                                                                                                                                                                                                                     \r\n",
      "<!-- ################################################################################################ -->\r\n",
      "<div class=\"wrapper row3\">\r\n",
      "  <div class=\"rounded\">\r\n",
      "  <a href=\"#_center\" accesskey=\"C\" title=\"ä¸»è¦å",
      "§å®¹åå¡\">:::ä¸»è¦å",
      "§å®¹</a>\r\n",
      "    <main class=\"container clear\"> \r\n",
      "\t\r\n",
      "      <!-- main body --> \r\n",
      "      <!-- ################################################################################################ -->\r\n",
      "      <div class=\"group btmspace-30\" > \r\n",
      "      <a href=\"https://www.must.edu.tw/about/admissions.html\"><img src=\"about/images/1080214.jpg\"> </a>\r\n",
      "      </div>\r\n",
      "      <!-- / main body -->\r\n",
      "      <div class=\"clear\"></div>\r\n",
      "    </main>\r\n",
      "  </div>\r\n",
      "</div>\r\n",
      "<!-- ################################################################################################ --> \r\n",
      "<!-- ################################################################################################ --> \r\n",
      "<!-- ################################################################################################ -->\r\n",
      "<div class=\"wrapper row4\">\r\n",
      "  <div class=\"rounded\">\r\n",
      "    <footer id=\"footer\" class=\"clear\"> \r\n",
      "      <!-- ################################################################################################ -->\r\n",
      "      <div class=\"one_third first\">\r\n",
      "        <figure class=\"center\">\r\n",
      "        <iframe title=\"MUST Map-æ¬æ ¡ä½æ¼æ°ç«¹ç¸£æ°è±éæ°èè·¯ä¸èãä½æ¼ç«¹åå¾æ¹å£æ¹å1èçéå·¦å´èåº·æ¨è·¯äº¤åè·¯å£ã\" name='map' src=\"https://www.google.com/maps/embed?pb=!1m18!1m12!1m3!1d3619.999953283614!2d120.98902801500292!3d24.863851184052347!2m3!1f0!2f0!3f0!3m2!1i1024!2i768!4f13.1!3m3!1m2!1s0x34683154f00767ff%3A0xc036e80a53993101!2zMzA05paw56u557ij5paw6LGQ6YSJ5paw6IiI6LevMeiZnw!5e0!3m2!1szh-TW!2stw!4v1444721457247\" width=\"300\" height=\"225\" frameborder=\"0\" style=\"border:0\" allowfullscreen></iframe>\r\n",
      "          \r\n",
      "        </figure>\r\n",
      "      </div>\r\n",
      "      <div class=\"one_third\">\r\n",
      "        <address>\r\n",
      "         ææ°å­¸æ ¡è²¡åæ³äººææ°ç§æå¤§å­¸<a href=\"http://webs.must.edu.tw/pagecount/page_list.php?FileName=must_school\" target=\"_blank\"><img src=\"icon.png\"></a><br>\r\n",
      "         Minghsin University of Science and Technology <br>\r\n",
      "         å°åï¼30401æ°ç«¹ç¸£æ°è±éæ°èè·¯1è<br>\r\n",
      "         Address<br>\r\n",
      "         No.1, Xinxing Rd., Xinfeng Hsinchu 30401, Taiwan(R.O.C) <br>\r\n",
      "        <br>\r\n",
      "        <i class=\"fa fa-phone pright-10\"></i> é»è©±/å³çï¼(03)5593142 / <br /> (03)5595142 <br />\r\n",
      "        <i class=\"fa fa-phone pright-10\"></i> TEL/FAXï¼ï¼+886-3-5593142 / +886-3-5595142 <br />\r\n",
      "        <i class=\"fa fa-envelope-o pright-10\"></i> <a href=\"http://www.must.edu.tw/about/contact.html\" title=\"åå¾èæè¯çµ¡é£çµ\">Contact Us</a>\r\n",
      "        </address>\r\n",
      "      </div>\r\n",
      "      <div class=\"one_third\">\r\n",
      "        <p class=\"nospace btmspace-10\">What's News!Watch This!</p>\r\n",
      "\t\t<div class=\"imgl borderedbox\">\r\n",
      "\t\t<img src=\"//qr-official.line.me/L/jsoAW0_CS6.png\" style=\"height:120px; width:120px;\">\r\n",
      "\t\t<a href=\"https://line.me/R/ti/p/%40ywx9970x\"><img style=\"height:40px; width:100px;\" border=\"0\" alt=\"å å",
      "¥å¥½å\" src=\"https://scdn.line-apps.com/n/line_add_friends/btn/zh-Hant.png\"></a>\r\n",
      "\t\t</div>\r\n",
      "        <ul class=\"faico clear\">\r\n",
      "          <li><a class=\"faicon-facebook\" href=\"https://www.facebook.com/mustminghsin\" title=\"ææ°èæ¸ç²çµ²é é¢\"><i class=\"fa fa-facebook\"></i></a></li>\r\n",
      "          <!--<li><a class=\"faicon-rss\" href=\"http://www.must.edu.tw/rss.aspx\"><i class=\"fa fa-rss\"></i></a></li>-->          \r\n",
      "\t\t  <li></li>\t\t  \r\n",
      "        </ul>        \r\n",
      "      </div>\r\n",
      "\t  <div><a href=\"http://www.handicap-free.nat.gov.tw/Applications/Detail?category=20161027164651\" title=\"ç¡éç¤ç¶²ç«\"><img src=\"images/demo/A.jpg\" border=\"0\" width=\"88\" height=\"31\" alt=\"ééA+åªå",
      "ç­ç´ç¡éç¤ç¶²é æª¢æ¸¬\" /></a> </div>\r\n",
      "\t    \r\n",
      "\t  <!-- ################################################################################################ --> \r\n",
      "\t\t\r\n",
      "\t</footer>\r\n",
      "  </div>\r\n",
      "</div>\r\n",
      "<!-- ################################################################################################ --> \r\n",
      "<!-- ################################################################################################ --> \r\n",
      "<!-- ################################################################################################ -->\r\n",
      "<div class=\"wrapper row5\">\r\n",
      "  <a href=\"#_bottom\" accesskey=\"B\" title=\"ç¶²é æä¸æ¹\">:::ä¸æ¹</a>  \r\n",
      "  <div id=\"copyright\" class=\"clear\"> \r\n",
      "\r\n",
      "    <!-- ################################################################################################ -->\r\n",
      "    <p class=\"fl_left\">Copyright &copy; 2015 - All Rights Reserved - <a href=\"#\">Minghsin University of Science and Technology</a></p>\r\n",
      "    <p class=\"fl_right\">Template by <a target=\"_blank\" href=\"http://www.os-templates.com/\" title=\"Free Website Templates\">OS Templates</a></p>\r\n",
      "    \r\n",
      "    <!-- ################################################################################################ --> \r\n",
      "  </div>\r\n",
      "  \r\n",
      "</div>\r\n",
      "<!-- JAVASCRIPTS --> \r\n",
      "<script src=\"layout/scripts/jquery.min.js\"></script> \r\n",
      "<script src=\"layout/scripts/jquery.fitvids.min.js\"></script> \r\n",
      "<script src=\"layout/scripts/jquery.mobilemenu.js\"></script> \r\n",
      "<script src=\"layout/scripts/tabslet/jquery.tabslet.min.js\"></script>\r\n",
      "<script>\r\n",
      "\tfunction myFun1(){\r\n",
      "\t\tvar x=document.getElementById(\"myFun1\");\r\n",
      "\t\tif (x.style.display === \"none\"){\r\n",
      "\t\t\tx.style.display = \"block\";\r\n",
      "\t\t}else{\r\n",
      "\t\t\tx.style.display = \"none\";\r\n",
      "\t\t}\r\n",
      "\t}\r\n",
      "\tfunction myFun2(){\r\n",
      "\t\tvar x=document.getElementById(\"myFun2\");\r\n",
      "\t\tif (x.style.display === \"none\"){\r\n",
      "\t\t\tx.style.display = \"block\";\r\n",
      "\t\t}else{\r\n",
      "\t\t\tx.style.display = \"none\";\r\n",
      "\t\t}\r\n",
      "\t}\r\n",
      "\tfunction myFun3(){\r\n",
      "\t\tvar x=document.getElementById(\"myFun3\");\r\n",
      "\t\tif (x.style.display === \"none\"){\r\n",
      "\t\t\tx.style.display = \"block\";\r\n",
      "\t\t}else{\r\n",
      "\t\t\tx.style.display = \"none\";\r\n",
      "\t\t}\r\n",
      "\t}\r\n",
      "\tfunction myFun4(){\r\n",
      "\t\tvar x=document.getElementById(\"myFun4\");\r\n",
      "\t\tif (x.style.display === \"none\"){\r\n",
      "\t\t\tx.style.display = \"block\";\r\n",
      "\t\t}else{\r\n",
      "\t\t\tx.style.display = \"none\";\r\n",
      "\t\t}\r\n",
      "\t}\r\n",
      "</script>\r\n",
      "</body>\r\n",
      "</html>\n"
     ]
    }
   ],
   "source": [
    "import requests\n",
    "a=requests.get(\"http://www.must.edu.tw/\")\n",
    "print(a.text)"
   ]
  },
  {
   "cell_type": "markdown",
   "metadata": {},
   "source": [
    "# 單行註解"
   ]
  },
  {
   "cell_type": "code",
   "execution_count": 2,
   "metadata": {},
   "outputs": [],
   "source": [
    "#單行註解"
   ]
  },
  {
   "cell_type": "markdown",
   "metadata": {},
   "source": [
    "# 多行註解"
   ]
  },
  {
   "cell_type": "code",
   "execution_count": null,
   "metadata": {},
   "outputs": [],
   "source": [
    "'''\n",
    "多行註解\n",
    "'''"
   ]
  },
  {
   "cell_type": "markdown",
   "metadata": {},
   "source": [
    "# 設定變數"
   ]
  },
  {
   "cell_type": "code",
   "execution_count": null,
   "metadata": {},
   "outputs": [],
   "source": [
    "x=5"
   ]
  },
  {
   "cell_type": "markdown",
   "metadata": {},
   "source": [
    "# 印出變數"
   ]
  },
  {
   "cell_type": "code",
   "execution_count": 3,
   "metadata": {},
   "outputs": [
    {
     "name": "stdout",
     "output_type": "stream",
     "text": [
      "7\n",
      "8\n",
      "9\n"
     ]
    }
   ],
   "source": [
    "x,y,z = 7,8,9\n",
    "print(x)\n",
    "print(y)\n",
    "print(z)"
   ]
  },
  {
   "cell_type": "markdown",
   "metadata": {},
   "source": [
    "# 一般的加法、乘法、次方"
   ]
  },
  {
   "cell_type": "code",
   "execution_count": 4,
   "metadata": {},
   "outputs": [
    {
     "name": "stdout",
     "output_type": "stream",
     "text": [
      "4 30 531441\n"
     ]
    }
   ],
   "source": [
    "x,y,z = 3,6,9\n",
    "x += 1      \n",
    "y *= 5      \n",
    "z **=6      \n",
    "print(x,y,z)"
   ]
  },
  {
   "cell_type": "markdown",
   "metadata": {},
   "source": [
    "# 傳回輸入數值的平方根"
   ]
  },
  {
   "cell_type": "code",
   "execution_count": 5,
   "metadata": {},
   "outputs": [
    {
     "name": "stdout",
     "output_type": "stream",
     "text": [
      "6.0\n"
     ]
    }
   ],
   "source": [
    "import math\n",
    "a,b,c=3,4,5\n",
    "s=(a+b+c)/2\n",
    "d=math.sqrt(s*(s-a)*(s-b)*(s-c))\n",
    "print(d)"
   ]
  },
  {
   "cell_type": "markdown",
   "metadata": {},
   "source": [
    "# 傳回值"
   ]
  },
  {
   "cell_type": "code",
   "execution_count": 6,
   "metadata": {},
   "outputs": [
    {
     "name": "stdout",
     "output_type": "stream",
     "text": [
      "<class 'int'>\n"
     ]
    },
    {
     "data": {
      "text/plain": [
       "140727524774640"
      ]
     },
     "execution_count": 6,
     "metadata": {},
     "output_type": "execute_result"
    }
   ],
   "source": [
    "x=254\n",
    "print(type(x))\n",
    "id(x)"
   ]
  },
  {
   "cell_type": "markdown",
   "metadata": {},
   "source": [
    "# 求圓錐體面積"
   ]
  },
  {
   "cell_type": "code",
   "execution_count": 7,
   "metadata": {},
   "outputs": [
    {
     "name": "stdout",
     "output_type": "stream",
     "text": [
      "95.42587685278995\n"
     ]
    }
   ],
   "source": [
    "#半徑為4.5，el 高度為4.5的圓錐體面積為何?\n",
    "import math\n",
    "print((4.5*4.5*math.pi*4.5)/3)"
   ]
  },
  {
   "cell_type": "markdown",
   "metadata": {},
   "source": [
    "# 除法以及求商跟餘數"
   ]
  },
  {
   "cell_type": "code",
   "execution_count": 8,
   "metadata": {},
   "outputs": [
    {
     "name": "stdout",
     "output_type": "stream",
     "text": [
      "5.333333333333333\n",
      "5\n",
      "1\n"
     ]
    }
   ],
   "source": [
    "x=16\n",
    "y=3\n",
    "print(x/y)\n",
    "print(x//y) \n",
    "print(x%y) "
   ]
  },
  {
   "cell_type": "markdown",
   "metadata": {},
   "source": [
    "# 關係運算"
   ]
  },
  {
   "cell_type": "code",
   "execution_count": 9,
   "metadata": {},
   "outputs": [
    {
     "name": "stdout",
     "output_type": "stream",
     "text": [
      "True\n",
      "False\n",
      "20\n"
     ]
    }
   ],
   "source": [
    "x=10\n",
    "print(20==20)\n",
    "y=20\n",
    "print(x==y)\n",
    "x=y\n",
    "print(x)"
   ]
  },
  {
   "cell_type": "markdown",
   "metadata": {},
   "source": [
    "# 判斷是否為真"
   ]
  },
  {
   "cell_type": "code",
   "execution_count": 10,
   "metadata": {},
   "outputs": [
    {
     "name": "stdout",
     "output_type": "stream",
     "text": [
      "True\n"
     ]
    }
   ],
   "source": [
    "a,b,c=10,20,30\n",
    "print(a<=b<=c)"
   ]
  },
  {
   "cell_type": "markdown",
   "metadata": {},
   "source": [
    "# 減法"
   ]
  },
  {
   "cell_type": "code",
   "execution_count": 11,
   "metadata": {},
   "outputs": [
    {
     "name": "stdout",
     "output_type": "stream",
     "text": [
      "0.0015926269999999576\n"
     ]
    }
   ],
   "source": [
    "x=3.141592627\n",
    "print(x-3.14)"
   ]
  },
  {
   "cell_type": "markdown",
   "metadata": {},
   "source": [
    "# 判斷是否為真"
   ]
  },
  {
   "cell_type": "code",
   "execution_count": null,
   "metadata": {},
   "outputs": [],
   "source": [
    "y=2010\n",
    "print(y%4==0 and y%100!=0 or y%400==0)\n",
    "y=2012\n",
    "print(y%4==0 and y%100!=0 or y%400==0)\n",
    "y=2000\n",
    "print(y%4==0 and y%100!=0 or y%400==0)"
   ]
  },
  {
   "cell_type": "markdown",
   "metadata": {},
   "source": [
    "# 型態轉換"
   ]
  },
  {
   "cell_type": "code",
   "execution_count": 12,
   "metadata": {},
   "outputs": [
    {
     "name": "stdout",
     "output_type": "stream",
     "text": [
      "12.5\n",
      "123\n",
      "123.0\n",
      "123\n",
      "The value of x is 32.5and y is 40000\n",
      "The value of x is 32.5and y is 40000\n"
     ]
    }
   ],
   "source": [
    "x=12\n",
    "y=float(x)+0.5\n",
    "print(y)\n",
    "print(int('123'))\n",
    "print(float('123'))\n",
    "print(int(123.333))\n",
    "x=10*3.25              #3.25\n",
    "y=200*200              #40000\n",
    "s='The value of x is ' + str(x) + 'and y is ' + str(y)\n",
    "s1='The value of x is ' + repr(x) + 'and y is ' + repr(y)\n",
    "print(s)\n",
    "print(s1)"
   ]
  },
  {
   "cell_type": "markdown",
   "metadata": {},
   "source": [
    "# 圓周率、求2的3次方、平方根"
   ]
  },
  {
   "cell_type": "code",
   "execution_count": 2,
   "metadata": {},
   "outputs": [
    {
     "name": "stdout",
     "output_type": "stream",
     "text": [
      "3.141592653589793\n",
      "8.0\n",
      "26.423892221536985\n",
      "5.0\n"
     ]
    }
   ],
   "source": [
    "import math\n",
    "print(math.pi)\n",
    "print(math.pow(2,3))\n",
    "print(8.3*10.58*math.sin(37.0/180*math.pi)/2)\n",
    "print(math.sqrt(25))"
   ]
  },
  {
   "cell_type": "markdown",
   "metadata": {},
   "source": [
    "# 輸入半徑後求圓面積"
   ]
  },
  {
   "cell_type": "code",
   "execution_count": null,
   "metadata": {},
   "outputs": [],
   "source": [
    "import math\n",
    "r= input(\"請輸入半徑:\")\n",
    "area = float(r) * float(r) *math.pi\n",
    "print(\"圓面積為:\" ,area)"
   ]
  },
  {
   "cell_type": "markdown",
   "metadata": {},
   "source": [
    "# List串列"
   ]
  },
  {
   "cell_type": "code",
   "execution_count": 3,
   "metadata": {},
   "outputs": [
    {
     "name": "stdout",
     "output_type": "stream",
     "text": [
      "[1, 2, 3]\n",
      "python\n",
      "['python', 'js', 'SQL', 'java']\n"
     ]
    }
   ],
   "source": [
    "my_list0 = [1,2,3]\n",
    "print(my_list0)\n",
    "my_list1 = ['python' ,'js','SQL']\n",
    "print(my_list1[0])\n",
    "my_list1.append('java')\n",
    "print(my_list1)"
   ]
  },
  {
   "cell_type": "markdown",
   "metadata": {},
   "source": [
    "# 新增到特殊位置"
   ]
  },
  {
   "cell_type": "code",
   "execution_count": 4,
   "metadata": {},
   "outputs": [
    {
     "name": "stdout",
     "output_type": "stream",
     "text": [
      "['c#', 'python', 'js', 'SQL', 'java']\n",
      "5\n"
     ]
    }
   ],
   "source": [
    "my_list1.insert(0,'c#')\n",
    "print(my_list1)\n",
    "print(len(my_list1))\n"
   ]
  },
  {
   "cell_type": "markdown",
   "metadata": {},
   "source": [
    "# list長度"
   ]
  },
  {
   "cell_type": "code",
   "execution_count": 5,
   "metadata": {},
   "outputs": [
    {
     "name": "stdout",
     "output_type": "stream",
     "text": [
      "5\n",
      "6\n"
     ]
    }
   ],
   "source": [
    "my_list2=['c#','python' ,'js','SQL','java']\n",
    "print(len(my_list2))\n",
    "print(len(my_list2[1]))"
   ]
  },
  {
   "cell_type": "markdown",
   "metadata": {},
   "source": [
    "# 刪除某特定物件、某特定位置的物件、-1指的是從最後數來第一個位置"
   ]
  },
  {
   "cell_type": "code",
   "execution_count": 6,
   "metadata": {},
   "outputs": [
    {
     "name": "stdout",
     "output_type": "stream",
     "text": [
      "['c#', 'python', 'SQL', 'java']\n",
      "['python', 'SQL', 'java']\n",
      "['python', 'SQL']\n"
     ]
    }
   ],
   "source": [
    "my_list3=['c#','python' ,'js','SQL','java']\n",
    "my_list3.remove('js')    #刪除某特定物件\n",
    "print(my_list3)\n",
    "del my_list3[0]          #刪除某特定位置的物件\n",
    "print(my_list3)\n",
    "del my_list3[-1]         #-1指的是從最後數來第一個位置\n",
    "print(my_list3)"
   ]
  },
  {
   "cell_type": "markdown",
   "metadata": {},
   "source": [
    "# 檢查是否存在"
   ]
  },
  {
   "cell_type": "code",
   "execution_count": 7,
   "metadata": {},
   "outputs": [
    {
     "name": "stdout",
     "output_type": "stream",
     "text": [
      "False\n"
     ]
    }
   ],
   "source": [
    "print('java' in['python' ,'js','SQL'])"
   ]
  },
  {
   "cell_type": "markdown",
   "metadata": {},
   "source": [
    "# 串列反轉跟串列排序"
   ]
  },
  {
   "cell_type": "code",
   "execution_count": 9,
   "metadata": {},
   "outputs": [
    {
     "name": "stdout",
     "output_type": "stream",
     "text": [
      "[1, 2, 3, 4, 5, 6, 7, 8, 9]\n",
      "[9, 8, 7, 6, 5, 4, 3, 2, 1]\n",
      "[1, 2, 3, 4, 5, 6, 7, 8, 9]\n"
     ]
    }
   ],
   "source": [
    "a=[1,2,3,4,5,6,7,8,9]\n",
    "print(a)\n",
    "a.reverse()   \n",
    "print(a)\n",
    "a.sort()    \n",
    "print(a)"
   ]
  },
  {
   "cell_type": "markdown",
   "metadata": {},
   "source": [
    "# 取特定位置的值"
   ]
  },
  {
   "cell_type": "code",
   "execution_count": 10,
   "metadata": {},
   "outputs": [
    {
     "name": "stdout",
     "output_type": "stream",
     "text": [
      "123\n",
      "abc\n",
      "[111, 222]\n",
      "222\n"
     ]
    }
   ],
   "source": [
    "a=[123,'abc',[111,222],[333,444]]\n",
    "print(a[0])\n",
    "print(a[1])\n",
    "print(a[2])\n",
    "print(a[2][1])"
   ]
  },
  {
   "cell_type": "markdown",
   "metadata": {},
   "source": [
    "# 不同的字串相加"
   ]
  },
  {
   "cell_type": "code",
   "execution_count": 11,
   "metadata": {},
   "outputs": [
    {
     "name": "stdout",
     "output_type": "stream",
     "text": [
      "[111, 222, 333, 444, 4156, 1546]\n"
     ]
    }
   ],
   "source": [
    "a=[111,222] + [333,444] + [4156,1546]\n",
    "print(a)"
   ]
  },
  {
   "cell_type": "markdown",
   "metadata": {},
   "source": [
    "# 串列List常用在For迴圈"
   ]
  },
  {
   "cell_type": "code",
   "execution_count": 12,
   "metadata": {},
   "outputs": [
    {
     "name": "stdout",
     "output_type": "stream",
     "text": [
      "milk\n",
      "egg\n",
      "coffee\n",
      "banana\n"
     ]
    }
   ],
   "source": [
    "shoplist = ['milk','egg','coffee','banana']\n",
    "for item in shoplist:\n",
    "    print(item)"
   ]
  },
  {
   "cell_type": "markdown",
   "metadata": {},
   "source": [
    "# tupe的元素不可新增刪除或修改"
   ]
  },
  {
   "cell_type": "code",
   "execution_count": 13,
   "metadata": {},
   "outputs": [
    {
     "name": "stdout",
     "output_type": "stream",
     "text": [
      "<class 'list'>\n",
      "<class 'tuple'>\n",
      "('python', 'js', 'SQL')\n"
     ]
    }
   ],
   "source": [
    "a_list=['python' ,'js','SQL']\n",
    "a_tuple=('python' ,'js','SQL')\n",
    "b_tuple=tuple(a_list)\n",
    "print(type(a_list))\n",
    "print(type(a_tuple))\n",
    "print(b_tuple)"
   ]
  },
  {
   "cell_type": "markdown",
   "metadata": {},
   "source": [
    "# 判斷類型"
   ]
  },
  {
   "cell_type": "code",
   "execution_count": 14,
   "metadata": {},
   "outputs": [
    {
     "name": "stdout",
     "output_type": "stream",
     "text": [
      "(111, 333, 222)\n",
      "<class 'tuple'>\n"
     ]
    }
   ],
   "source": [
    "c_tuple= 111,333,222   #c_tuple=(111,2222,333)\n",
    "print(c_tuple)\n",
    "print(type(c_tuple))"
   ]
  },
  {
   "cell_type": "markdown",
   "metadata": {},
   "source": [
    "# dict(字典-dictiontry)\n",
    "\n",
    "# 帶有鍵值(key)的list"
   ]
  },
  {
   "cell_type": "code",
   "execution_count": null,
   "metadata": {},
   "outputs": [],
   "source": [
    "a_list=['python', 'js', 'c#']\n",
    "a_dict={0:'python', 1:'js', 2:'c#'}\n",
    "print(a_list[0])\n",
    "print(a_dict[0])\n",
    "b_dict={'1st':'python', '2nd':'js','3rd':'c#'}\n",
    "print(b_dict['1st'])"
   ]
  }
 ],
 "metadata": {
  "kernelspec": {
   "display_name": "Python 3",
   "language": "python",
   "name": "python3"
  },
  "language_info": {
   "codemirror_mode": {
    "name": "ipython",
    "version": 3
   },
   "file_extension": ".py",
   "mimetype": "text/x-python",
   "name": "python",
   "nbconvert_exporter": "python",
   "pygments_lexer": "ipython3",
   "version": "3.7.1"
  }
 },
 "nbformat": 4,
 "nbformat_minor": 2
}
